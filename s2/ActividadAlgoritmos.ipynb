{
  "nbformat": 4,
  "nbformat_minor": 0,
  "metadata": {
    "colab": {
      "name": "ActividadAlgoritmos.ipynb",
      "provenance": [],
      "collapsed_sections": [],
      "authorship_tag": "ABX9TyNkxXDs7zcpgZw/6Xp2PpBo",
      "include_colab_link": true
    },
    "kernelspec": {
      "name": "python3",
      "display_name": "Python 3"
    },
    "language_info": {
      "name": "python"
    }
  },
  "cells": [
    {
      "cell_type": "markdown",
      "metadata": {
        "id": "view-in-github",
        "colab_type": "text"
      },
      "source": [
        "<a href=\"https://colab.research.google.com/github/LuceroObispoRios/AED-20221/blob/main/s2/ActividadAlgoritmos.ipynb\" target=\"_parent\"><img src=\"https://colab.research.google.com/assets/colab-badge.svg\" alt=\"Open In Colab\"/></a>"
      ]
    },
    {
      "cell_type": "code",
      "execution_count": 11,
      "metadata": {
        "colab": {
          "base_uri": "https://localhost:8080/"
        },
        "id": "vNjbS9pRxcyR",
        "outputId": "8c59264b-58b2-4a80-bb0d-f77c234a8a73"
      },
      "outputs": [
        {
          "output_type": "stream",
          "name": "stdout",
          "text": [
            "Overwriting Biblioteca.hpp\n"
          ]
        }
      ],
      "source": [
        "%%writefile Biblioteca.hpp\n",
        "#include <iostream>\n",
        "#include <cstdlib>// srand, rand\n",
        "#include <ctime>//time\n",
        "using std::cout;\n",
        "using std::cin;\n",
        "template <typename Random>\n",
        "class MyVector{\n",
        "    private:\n",
        "    Random* a;\n",
        "    size_t n;\n",
        "\n",
        "    public:\n",
        "    MyVector(){\n",
        "        a=new Random[10]; \n",
        "        n=0;\n",
        "    }\n",
        "    ~MyVector(){}\n",
        "\n",
        "    //Funciones\n",
        "    void generar(Random obj){\n",
        "        if(n<10) a[n++]=obj;\n",
        "    }\n",
        "    void listar(){\n",
        "        for(size_t i=0; i<n; ++i){\n",
        "            cout<<i<<\"-> \"<<a[i]<<\"\\n\";\n",
        "        }\n",
        "    }\n",
        "    void mayor(){\n",
        "        short mayor=a[0], pos=-1;\n",
        "        for(size_t i=1;i<n;++i){\n",
        "            if(a[i]>mayor){     //si es mayor al mayor, se actualiza\n",
        "            mayor=a[i];\n",
        "            pos=i;\n",
        "            }\n",
        "        }\n",
        "        cout<<\"El mayor valor es \"<<mayor<<\" y se encuentra en la posicion \"<<pos<<\"\\n\";\n",
        "    }\n",
        "    void ordenar(){\n",
        "        for(int i=0;i<n-1;++i){\n",
        "            for(int j=i+1;j<n;++j){\n",
        "                if(a[i]>a[j]){\n",
        "                    short aux=a[i];\n",
        "                    a[i]=a[j];\n",
        "                    a[j]=aux;\n",
        "                }\n",
        "            }\n",
        "        }\n",
        "        cout<<\"El arreglo esta ordenado\\n\";\n",
        "    }\n",
        "    void mayorPromedio(){\n",
        "        float promedio=0.0;    \n",
        "        for(int i=0;i<n-1;++i){\n",
        "             promedio+=a[i];\n",
        "        }\n",
        "        promedio/=n;\n",
        "\n",
        "        //listar\n",
        "        cout<<\"Mayor al promedio:\\n\";\n",
        "        for(int i=0;i<n-1;++i){\n",
        "             if(a[i]>promedio)cout<<i<<\"->\"<<a[i]<<\"\\n\";\n",
        "        }\n",
        "    }\n",
        "};"
      ]
    },
    {
      "cell_type": "code",
      "source": [
        "%%writefile actividad2.cpp\n",
        "#include <iostream>\n",
        "#include \"Biblioteca.hpp\"\n",
        "using namespace std;\n",
        "\n",
        "int main(){    \n",
        "    MyVector<int>*arr1 = new MyVector<int>;\n",
        "    MyVector<float>*arr2 = new MyVector<float>;\n",
        "    MyVector<long>*arr3 = new MyVector<long>;\n",
        "\n",
        "    for(size_t i=0; i<10; ++i){\n",
        "        arr1->generar(i);\n",
        "        arr2->generar(i*1.789);\n",
        "        arr3->generar(i*10000);\n",
        "    }\n",
        "    arr1->listar(); cout<<endl;\n",
        "    arr1->mayor(); \n",
        "    arr1->ordenar(); cout<<endl;\n",
        "    arr1->mayorPromedio(); cout<<endl;\n",
        "    cout<<\"---------------\"<<endl;\n",
        "    arr2->listar(); cout<<endl;\n",
        "    arr2->mayor();\n",
        "    arr2->ordenar(); cout<<endl;\n",
        "    arr2->mayorPromedio(); cout<<endl;\n",
        "    cout<<\"---------------\"<<endl;\n",
        "    arr3->listar(); cout<<endl;\n",
        "    arr3->mayor(); \n",
        "    arr3->ordenar(); cout<<endl;\n",
        "    arr3->mayorPromedio(); cout<<endl;\n",
        "}"
      ],
      "metadata": {
        "colab": {
          "base_uri": "https://localhost:8080/"
        },
        "id": "ep1_tS-Yy_Z1",
        "outputId": "f3291cbb-e041-4a48-f497-5783a0e6fd2d"
      },
      "execution_count": 12,
      "outputs": [
        {
          "output_type": "stream",
          "name": "stdout",
          "text": [
            "Overwriting actividad2.cpp\n"
          ]
        }
      ]
    },
    {
      "cell_type": "code",
      "source": [
        "!g++ -std=c++1z actividad2.cpp && ./a.out"
      ],
      "metadata": {
        "colab": {
          "base_uri": "https://localhost:8080/"
        },
        "id": "saXjIsuW5tkE",
        "outputId": "8026b6eb-fbe6-4e04-b254-0284a0241804"
      },
      "execution_count": 13,
      "outputs": [
        {
          "output_type": "stream",
          "name": "stdout",
          "text": [
            "0-> 0\n",
            "1-> 1\n",
            "2-> 2\n",
            "3-> 3\n",
            "4-> 4\n",
            "5-> 5\n",
            "6-> 6\n",
            "7-> 7\n",
            "8-> 8\n",
            "9-> 9\n",
            "\n",
            "El mayor valor es 9 y se encuentra en la posicion 9\n",
            "El arreglo esta ordenado\n",
            "\n",
            "Mayor al promedio:\n",
            "4->4\n",
            "5->5\n",
            "6->6\n",
            "7->7\n",
            "8->8\n",
            "\n",
            "---------------\n",
            "0-> 0\n",
            "1-> 1.789\n",
            "2-> 3.578\n",
            "3-> 5.367\n",
            "4-> 7.156\n",
            "5-> 8.945\n",
            "6-> 10.734\n",
            "7-> 12.523\n",
            "8-> 14.312\n",
            "9-> 16.101\n",
            "\n",
            "El mayor valor es 16 y se encuentra en la posicion 9\n",
            "El arreglo esta ordenado\n",
            "\n",
            "Mayor al promedio:\n",
            "4->7.156\n",
            "5->8.945\n",
            "6->10.734\n",
            "7->12.523\n",
            "8->14.312\n",
            "\n",
            "---------------\n",
            "0-> 0\n",
            "1-> 10000\n",
            "2-> 20000\n",
            "3-> 30000\n",
            "4-> 40000\n",
            "5-> 50000\n",
            "6-> 60000\n",
            "7-> 70000\n",
            "8-> 80000\n",
            "9-> 90000\n",
            "\n",
            "El mayor valor es 24464 y se encuentra en la posicion 9\n",
            "El arreglo esta ordenado\n",
            "\n",
            "Mayor al promedio:\n",
            "4->40000\n",
            "5->50000\n",
            "6->60000\n",
            "7->70000\n",
            "8->80000\n",
            "\n"
          ]
        }
      ]
    }
  ]
}